{
  "nbformat": 4,
  "nbformat_minor": 0,
  "metadata": {
    "kernelspec": {
      "display_name": "Python 3",
      "language": "python",
      "name": "python3"
    },
    "language_info": {
      "codemirror_mode": {
        "name": "ipython",
        "version": 3
      },
      "file_extension": ".py",
      "mimetype": "text/x-python",
      "name": "python",
      "nbconvert_exporter": "python",
      "pygments_lexer": "ipython3",
      "version": "3.7.1"
    },
    "colab": {
      "name": "Data Cleaning_project.ipynb",
      "provenance": [],
      "include_colab_link": true
    }
  },
  "cells": [
    {
      "cell_type": "markdown",
      "metadata": {
        "id": "view-in-github",
        "colab_type": "text"
      },
      "source": [
        "<a href=\"https://colab.research.google.com/github/meenasirisha145/AI_bepec/blob/master/Data_Cleaning_project.ipynb\" target=\"_parent\"><img src=\"https://colab.research.google.com/assets/colab-badge.svg\" alt=\"Open In Colab\"/></a>"
      ]
    },
    {
      "cell_type": "code",
      "metadata": {
        "id": "4R-SsaPOQc-Q",
        "colab_type": "code",
        "colab": {}
      },
      "source": [
        "import pandas as pd\n",
        "import numpy as np"
      ],
      "execution_count": null,
      "outputs": []
    },
    {
      "cell_type": "code",
      "metadata": {
        "id": "YVD2v5IVQc-b",
        "colab_type": "code",
        "colab": {},
        "outputId": "4ed68aaf-de7e-44b0-aa6c-d73825c17659"
      },
      "source": [
        "cd C:\\Users\\Meena\\Documents\\Python codes_bepec\\Data Cleaning"
      ],
      "execution_count": null,
      "outputs": [
        {
          "output_type": "stream",
          "text": [
            "C:\\Users\\Meena\\Documents\\Python codes_bepec\\Data Cleaning\n"
          ],
          "name": "stdout"
        }
      ]
    },
    {
      "cell_type": "code",
      "metadata": {
        "id": "a8onRuU_Qc-i",
        "colab_type": "code",
        "colab": {}
      },
      "source": [
        "data = pd.read_excel('Lending_data.xlsx')"
      ],
      "execution_count": null,
      "outputs": []
    },
    {
      "cell_type": "code",
      "metadata": {
        "id": "tcHETMXHQc-o",
        "colab_type": "code",
        "colab": {},
        "outputId": "cb3ef33c-c0b9-43f7-c409-64a61e7dbb1d"
      },
      "source": [
        "print(data.head(10))"
      ],
      "execution_count": null,
      "outputs": [
        {
          "output_type": "stream",
          "text": [
            "   Name of Lending Institution HQ State Rank  TA Ratio1 TBL Ratio1  \\\n",
            "0        American Express Co.       NY     1    0.23829   0.999544   \n",
            "1     First Citizens Banchares      NC     2   0.187393    0.49083   \n",
            "2     Wintrust Financial Corp.      IL     3   0.168999   0.383561   \n",
            "3                Zions Bancorp      UT     4   0.117973   0.260577   \n",
            "4      Synovus Financial Corp.      GA     5   0.162333   0.381387   \n",
            "5                  BB&T Corp.       NC     6  0.0534601   0.252966   \n",
            "6                   FNB Corp.       PA     7   0.127672   0.416207   \n",
            "7  Capital One Financial Corp.      VA     8  0.0275597   0.316466   \n",
            "8      Fulton Financial Corp.       PA     8   0.129126   0.347611   \n",
            "9      Regions Financial Corp.      AL    10  0.0610388   0.219176   \n",
            "\n",
            "  Amount ($1,000)  Number      Lender Asset Size  Amount ($1,000).1  \\\n",
            "0        16350038  3603226  >$50B                          16318089   \n",
            "1         3914507   117702  $10B-$50B                        378394   \n",
            "2         2842793   136801  $10B-$50B                        800526   \n",
            "3         6231770    52612  >$50B                            526206   \n",
            "4         4227168    22675  $10B-$50B                        539666   \n",
            "5         9408732   506879  >$50B                           1922393   \n",
            "6         1475506    25011  $10B-$50B                        247853   \n",
            "7         9105726  2914573  >$50B                           5872601   \n",
            "8         2133209    20080  $10B-$50B                        187652   \n",
            "9         7386970    63394  >$50B                           1617601   \n",
            "\n",
            "   Number .1  Amount ($1,000).2  Number .2 CC Amount/TA1  \n",
            "0    3603088              31949        138          0.28  \n",
            "1     105081            3536113      12621           .    \n",
            "2     126455            2042267      10346             0  \n",
            "3      32973            5705564      19639             0  \n",
            "4       9593            3687502      13082          0.01  \n",
            "5     473449            7486339      33430             0  \n",
            "6      17810            1227653       7201           .    \n",
            "7    2900077            3233125      14496          0.25  \n",
            "8       9909            1945557      10171           .    \n",
            "9      41677            5769369      21717          0.01  \n"
          ],
          "name": "stdout"
        }
      ]
    },
    {
      "cell_type": "code",
      "metadata": {
        "id": "oazjTRaXQc-u",
        "colab_type": "code",
        "colab": {},
        "outputId": "d0091b4e-8d9c-4901-f68a-878f7e05d0bb"
      },
      "source": [
        "data['Rank'].unique()"
      ],
      "execution_count": null,
      "outputs": [
        {
          "output_type": "execute_result",
          "data": {
            "text/plain": [
              "array([1, 2, 3, 4, 5, 6, 7, 8, 10, 11, 13, 15, 16, 17, 18, 19, 22, 23, 24,\n",
              "       25, 26, 27, 28, 29, 30, 31, 32, 33, 34, 36, 37, 38, 39, 40, 42, 43,\n",
              "       44, 45, 46, 47, 48, 49, 50, 51, 52, 53, 54, 55, 56, 57, 58, 59, 60,\n",
              "       61, 62, 63, 64, 65, 66, 67, 69, 70, 71, 72, 73, 74, 75, 76, 77, 78,\n",
              "       79, 80, 81, 82, 83, 84, 85, 86, 87, 88, 'NR'], dtype=object)"
            ]
          },
          "metadata": {
            "tags": []
          },
          "execution_count": 5
        }
      ]
    },
    {
      "cell_type": "code",
      "metadata": {
        "id": "msV4AraKQc-0",
        "colab_type": "code",
        "colab": {},
        "outputId": "3a744a76-9cc6-443b-956c-2662742fdc9d"
      },
      "source": [
        "data.shape"
      ],
      "execution_count": null,
      "outputs": [
        {
          "output_type": "execute_result",
          "data": {
            "text/plain": [
              "(97, 14)"
            ]
          },
          "metadata": {
            "tags": []
          },
          "execution_count": 9
        }
      ]
    },
    {
      "cell_type": "code",
      "metadata": {
        "id": "uSyrporNQc-5",
        "colab_type": "code",
        "colab": {},
        "outputId": "246a48fe-40c5-477a-ba44-7f20767cece4"
      },
      "source": [
        "data.dtypes"
      ],
      "execution_count": null,
      "outputs": [
        {
          "output_type": "execute_result",
          "data": {
            "text/plain": [
              "Name of Lending Institution     object\n",
              "HQ State                        object\n",
              "Rank                            object\n",
              "TA Ratio1                       object\n",
              "TBL Ratio1                      object\n",
              "Amount ($1,000)                 object\n",
              "Number                          object\n",
              "Lender Asset Size               object\n",
              "Amount ($1,000).1              float64\n",
              "Number .1                      float64\n",
              "Unnamed: 10                    float64\n",
              "Amount ($1,000).2              float64\n",
              "Number .2                      float64\n",
              "CC Amount/TA1                   object\n",
              "dtype: object"
            ]
          },
          "metadata": {
            "tags": []
          },
          "execution_count": 10
        }
      ]
    },
    {
      "cell_type": "code",
      "metadata": {
        "id": "zSGZkC2ZQc_A",
        "colab_type": "code",
        "colab": {},
        "outputId": "e324611e-55a9-4706-c833-c5d105fe5894"
      },
      "source": [
        "data['Rank'] = data['Rank'].replace('NR',0)\n",
        "print(data['Rank'])"
      ],
      "execution_count": null,
      "outputs": [
        {
          "output_type": "stream",
          "text": [
            "0      1\n",
            "1      2\n",
            "2      3\n",
            "3      4\n",
            "4      5\n",
            "5      6\n",
            "6      7\n",
            "7      8\n",
            "8      8\n",
            "9     10\n",
            "10    11\n",
            "11    11\n",
            "12    13\n",
            "13    13\n",
            "14    15\n",
            "15    16\n",
            "16    17\n",
            "17    18\n",
            "18    19\n",
            "19    19\n",
            "20    19\n",
            "21    22\n",
            "22    23\n",
            "23    24\n",
            "24    25\n",
            "25    26\n",
            "26    27\n",
            "27    28\n",
            "28    29\n",
            "29    30\n",
            "      ..\n",
            "63    64\n",
            "64    65\n",
            "65    66\n",
            "66    67\n",
            "67    67\n",
            "68    69\n",
            "69    70\n",
            "70    71\n",
            "71    72\n",
            "72    73\n",
            "73    74\n",
            "74    75\n",
            "75    76\n",
            "76    77\n",
            "77    78\n",
            "78    79\n",
            "79    80\n",
            "80    81\n",
            "81    82\n",
            "82    83\n",
            "83    84\n",
            "84    85\n",
            "85    86\n",
            "86    87\n",
            "87    88\n",
            "88     0\n",
            "89     0\n",
            "90     0\n",
            "91     0\n",
            "92     0\n",
            "Name: Rank, Length: 93, dtype: int64\n"
          ],
          "name": "stdout"
        }
      ]
    },
    {
      "cell_type": "code",
      "metadata": {
        "id": "ihxivBL1Qc_G",
        "colab_type": "code",
        "colab": {},
        "outputId": "edd2de31-a15f-4e80-ca7a-295f7d51ce60"
      },
      "source": [
        "data['Lender Asset Size'].value_counts()"
      ],
      "execution_count": null,
      "outputs": [
        {
          "output_type": "execute_result",
          "data": {
            "text/plain": [
              "$10B-$50B               43\n",
              ">$50B                   32\n",
              ">$10B                   18\n",
              "Name: Lender Asset Size, dtype: int64"
            ]
          },
          "metadata": {
            "tags": []
          },
          "execution_count": 8
        }
      ]
    },
    {
      "cell_type": "code",
      "metadata": {
        "id": "5II1Qp83Qc_L",
        "colab_type": "code",
        "colab": {},
        "outputId": "235024fb-94f8-45d9-ed1a-2c254d215305"
      },
      "source": [
        "data['Lender Asset Size'].unique()"
      ],
      "execution_count": null,
      "outputs": [
        {
          "output_type": "execute_result",
          "data": {
            "text/plain": [
              "array(['>$50B               ', '$10B-$50B           ',\n",
              "       '>$10B               '], dtype=object)"
            ]
          },
          "metadata": {
            "tags": []
          },
          "execution_count": 9
        }
      ]
    },
    {
      "cell_type": "code",
      "metadata": {
        "id": "19Yhx83pQc_Q",
        "colab_type": "code",
        "colab": {}
      },
      "source": [
        "data['Lender Asset Size'].replace(['>$50B               ', '$10B-$50B           ',\n",
        "       '>$10B               '],[0,1,2],inplace=True)"
      ],
      "execution_count": null,
      "outputs": []
    },
    {
      "cell_type": "code",
      "metadata": {
        "id": "iW4NAGPHQc_V",
        "colab_type": "code",
        "colab": {},
        "outputId": "e64b246d-343b-43db-9ca0-fe21b47f6ce1"
      },
      "source": [
        "data['Lender Asset Size'].value_counts()\n"
      ],
      "execution_count": null,
      "outputs": [
        {
          "output_type": "execute_result",
          "data": {
            "text/plain": [
              "1    43\n",
              "0    32\n",
              "2    18\n",
              "Name: Lender Asset Size, dtype: int64"
            ]
          },
          "metadata": {
            "tags": []
          },
          "execution_count": 11
        }
      ]
    },
    {
      "cell_type": "code",
      "metadata": {
        "id": "5N82YPjBQc_Z",
        "colab_type": "code",
        "colab": {},
        "outputId": "b3dac25d-315b-41cd-d70b-c7ea0ccd502b"
      },
      "source": [
        "data.columns"
      ],
      "execution_count": null,
      "outputs": [
        {
          "output_type": "execute_result",
          "data": {
            "text/plain": [
              "Index(['Name of Lending Institution', 'HQ State', 'Rank', 'TA Ratio1',\n",
              "       'TBL Ratio1', 'Amount ($1,000)', 'Number ', 'Lender Asset Size',\n",
              "       'Amount ($1,000).1', 'Number .1', 'Amount ($1,000).2', 'Number .2',\n",
              "       'CC Amount/TA1'],\n",
              "      dtype='object')"
            ]
          },
          "metadata": {
            "tags": []
          },
          "execution_count": 16
        }
      ]
    },
    {
      "cell_type": "code",
      "metadata": {
        "id": "hLj8eyhEQc_f",
        "colab_type": "code",
        "colab": {}
      },
      "source": [
        "data['TA Ratio1']=data['TA Ratio1'].replace('-', np.NaN)\n"
      ],
      "execution_count": null,
      "outputs": []
    },
    {
      "cell_type": "code",
      "metadata": {
        "id": "hVEaj05HQc_k",
        "colab_type": "code",
        "colab": {},
        "outputId": "ac686269-8213-49a6-e004-354d6dd4da19"
      },
      "source": [
        "data['TA Ratio1'].dtypes"
      ],
      "execution_count": null,
      "outputs": [
        {
          "output_type": "execute_result",
          "data": {
            "text/plain": [
              "dtype('float64')"
            ]
          },
          "metadata": {
            "tags": []
          },
          "execution_count": 17
        }
      ]
    },
    {
      "cell_type": "code",
      "metadata": {
        "id": "2pYqDtV1Qc_p",
        "colab_type": "code",
        "colab": {},
        "outputId": "4a4f0d20-7d38-4c29-b810-268cea6dc90f"
      },
      "source": [
        "data['TA Ratio1'].mean()"
      ],
      "execution_count": null,
      "outputs": [
        {
          "output_type": "execute_result",
          "data": {
            "text/plain": [
              "0.04866798356661807"
            ]
          },
          "metadata": {
            "tags": []
          },
          "execution_count": 18
        }
      ]
    },
    {
      "cell_type": "code",
      "metadata": {
        "id": "5pApV1YcQc_u",
        "colab_type": "code",
        "colab": {}
      },
      "source": [
        "data['TA Ratio1'] = data['TA Ratio1'].fillna(data['TA Ratio1'].mean())"
      ],
      "execution_count": null,
      "outputs": []
    },
    {
      "cell_type": "code",
      "metadata": {
        "id": "ICaDEBFUQc_z",
        "colab_type": "code",
        "colab": {},
        "outputId": "f628f795-9da9-4271-e026-c90a5849e232"
      },
      "source": [
        "print(data['TA Ratio1'])"
      ],
      "execution_count": null,
      "outputs": [
        {
          "output_type": "stream",
          "text": [
            "0     0.238290\n",
            "1     0.187393\n",
            "2     0.168999\n",
            "3     0.117973\n",
            "4     0.162333\n",
            "5     0.053460\n",
            "6     0.127672\n",
            "7     0.027560\n",
            "8     0.129126\n",
            "9     0.061039\n",
            "10    0.042109\n",
            "11    0.072173\n",
            "12    0.070508\n",
            "13    0.069383\n",
            "14    0.125271\n",
            "15    0.093604\n",
            "16    0.042241\n",
            "17    0.018606\n",
            "18    0.012517\n",
            "19    0.070866\n",
            "20    0.092308\n",
            "21    0.067755\n",
            "22    0.019831\n",
            "23    0.109599\n",
            "24    0.085678\n",
            "25    0.048534\n",
            "26    0.028649\n",
            "27    0.036391\n",
            "28    0.046765\n",
            "29    0.041756\n",
            "        ...   \n",
            "63    0.031035\n",
            "64    0.019009\n",
            "65    0.011237\n",
            "66    0.006365\n",
            "67    0.012968\n",
            "68    0.004470\n",
            "69    0.009801\n",
            "70    0.000986\n",
            "71    0.019486\n",
            "72    0.014298\n",
            "73    0.021068\n",
            "74    0.034560\n",
            "75    0.009297\n",
            "76    0.000008\n",
            "77    0.015797\n",
            "78    0.011362\n",
            "79    0.010257\n",
            "80    0.010602\n",
            "81    0.012293\n",
            "82    0.003209\n",
            "83    0.006555\n",
            "84    0.004334\n",
            "85    0.000310\n",
            "86    0.000035\n",
            "87    0.000047\n",
            "88    0.000000\n",
            "89    0.048668\n",
            "90    0.048668\n",
            "91    0.048668\n",
            "92    0.048668\n",
            "Name: TA Ratio1, Length: 93, dtype: float64\n"
          ],
          "name": "stdout"
        }
      ]
    },
    {
      "cell_type": "code",
      "metadata": {
        "id": "Cy_VW4NDQc_6",
        "colab_type": "code",
        "colab": {},
        "outputId": "c289b3e8-5931-4240-f125-97272d3429e1"
      },
      "source": [
        "columns = ['TA Ratio1','TBL Ratio1','Amount ($1,000)','Number ','Lender Asset Size','Amount ($1,000).1',\n",
        " 'Number .1','Amount ($1,000).2','Number .2']\n",
        "for col in columns:\n",
        "    data[col]=data[col].replace('-', np.NaN)\n",
        "    #print(data[col].dtypes)\n",
        "    data[col] = data[col].fillna(data[col].mean())\n",
        "  "
      ],
      "execution_count": null,
      "outputs": [
        {
          "output_type": "stream",
          "text": [
            "float64\n",
            "float64\n",
            "float64\n",
            "float64\n",
            "int64\n",
            "int64\n",
            "int64\n",
            "int64\n",
            "int64\n"
          ],
          "name": "stdout"
        }
      ]
    },
    {
      "cell_type": "code",
      "metadata": {
        "id": "mxlo1ZurQc_-",
        "colab_type": "code",
        "colab": {}
      },
      "source": [
        "data['CC Amount/TA1']=data['CC Amount/TA1'].replace('    .  ', np.NaN)\n"
      ],
      "execution_count": null,
      "outputs": []
    },
    {
      "cell_type": "code",
      "metadata": {
        "id": "2DLjlBwdQdAE",
        "colab_type": "code",
        "colab": {},
        "outputId": "f7feb565-d841-4d89-b09c-ce2c9742a25f"
      },
      "source": [
        "data['CC Amount/TA1'].dtypes"
      ],
      "execution_count": null,
      "outputs": [
        {
          "output_type": "execute_result",
          "data": {
            "text/plain": [
              "dtype('float64')"
            ]
          },
          "metadata": {
            "tags": []
          },
          "execution_count": 43
        }
      ]
    },
    {
      "cell_type": "code",
      "metadata": {
        "id": "tnPlCIu_QdAJ",
        "colab_type": "code",
        "colab": {}
      },
      "source": [
        "data['CC Amount/TA1'] = data['CC Amount/TA1'].fillna(data['CC Amount/TA1'].mean())"
      ],
      "execution_count": null,
      "outputs": []
    },
    {
      "cell_type": "code",
      "metadata": {
        "id": "iydM2qD3QdAN",
        "colab_type": "code",
        "colab": {}
      },
      "source": [
        "data.to_excel('Cleaned_lendingdata.xlsx',index=False)"
      ],
      "execution_count": null,
      "outputs": []
    },
    {
      "cell_type": "code",
      "metadata": {
        "id": "ABbLhgeZQdAR",
        "colab_type": "code",
        "colab": {},
        "outputId": "e493812c-d3ea-49b2-f88b-8d35418e6ae9"
      },
      "source": [
        "print(data.head())"
      ],
      "execution_count": null,
      "outputs": [
        {
          "output_type": "stream",
          "text": [
            "  Name of Lending Institution HQ State  Rank  TA Ratio1  TBL Ratio1  \\\n",
            "0       American Express Co.       NY      1   0.238290    0.999544   \n",
            "1    First Citizens Banchares      NC      2   0.187393    0.490830   \n",
            "2    Wintrust Financial Corp.      IL      3   0.168999    0.383561   \n",
            "3               Zions Bancorp      UT      4   0.117973    0.260577   \n",
            "4     Synovus Financial Corp.      GA      5   0.162333    0.381387   \n",
            "\n",
            "   Amount ($1,000)    Number   Lender Asset Size  Amount ($1,000).1  \\\n",
            "0       16350038.0  3603226.0                  0           16318089   \n",
            "1        3914507.0   117702.0                  1             378394   \n",
            "2        2842793.0   136801.0                  1             800526   \n",
            "3        6231770.0    52612.0                  0             526206   \n",
            "4        4227168.0    22675.0                  1             539666   \n",
            "\n",
            "   Number .1  Amount ($1,000).2  Number .2  CC Amount/TA1  \n",
            "0    3603088              31949        138        0.28000  \n",
            "1     105081            3536113      12621        0.02087  \n",
            "2     126455            2042267      10346        0.00000  \n",
            "3      32973            5705564      19639        0.00000  \n",
            "4       9593            3687502      13082        0.01000  \n"
          ],
          "name": "stdout"
        }
      ]
    },
    {
      "cell_type": "code",
      "metadata": {
        "id": "DVjFREMcQdAW",
        "colab_type": "code",
        "colab": {}
      },
      "source": [
        ""
      ],
      "execution_count": null,
      "outputs": []
    }
  ]
}